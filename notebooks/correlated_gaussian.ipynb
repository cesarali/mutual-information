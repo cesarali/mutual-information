{
 "cells": [
  {
   "cell_type": "code",
   "execution_count": 2,
   "id": "dfa6e608-fcae-4456-b479-ad5051c5a9c4",
   "metadata": {},
   "outputs": [],
   "source": [
    "import torch\n",
    "from torch.distributions.multivariate_normal import MultivariateNormal"
   ]
  },
  {
   "cell_type": "code",
   "execution_count": 106,
   "id": "44b795d4-868f-40bf-93be-c1cad0d2bbb4",
   "metadata": {},
   "outputs": [],
   "source": [
    "number_of_time_steps = 4\n",
    "number_of_time_series = 4000\n",
    "\n",
    "def obtain_rolling_correlations(number_of_time_steps = 4):\n",
    "    rho_values = torch.linspace(0.,1.,number_of_time_steps)\n",
    "    rho_values = torch.flip(rho_values,dims=(0,))\n",
    "    all_rho_values = []\n",
    "    for time_step in range(number_of_time_steps):\n",
    "        column = torch.zeros(number_of_time_steps)\n",
    "        rolled_rhos = torch.roll(rho_values,shifts=time_step)\n",
    "        column[time_step:] = rolled_rhos[time_step:]\n",
    "        all_rho_values.append(column)\n",
    "    all_rho_values = torch.vstack(all_rho_values)\n",
    "    return all_rho_values\n",
    "\n",
    "def copy_upper_diagonal_values(tensor):\n",
    "    # Create a sample 2D tensor (replace this with your own tensor)\n",
    "    original_tensor = tensor\n",
    "    # Get the upper triangular portion of the tensor (above the diagonal)\n",
    "    upper_triangular = torch.triu(original_tensor, diagonal=1)\n",
    "    # Create a mask for the diagonal and below\n",
    "    mask = torch.tril(torch.ones_like(original_tensor), diagonal=0)\n",
    "    # Fill the lower triangular portion with values from the upper triangular portion\n",
    "    result_tensor = (upper_triangular + upper_triangular.transpose(0, 1))\n",
    "    # Add the diagonal elements from the original tensor\n",
    "    result_tensor += torch.diag_embed(torch.diag(original_tensor))\n",
    "    return result_tensor\n",
    "\n",
    "\n",
    "all_rho_values = obtain_rolling_correlations(number_of_time_steps)\n",
    "covariance = copy_upper_diagonal_values(all_rho_values)\n",
    "mu = torch.zeros(number_of_time_steps)\n",
    "distribution_for_series = MultivariateNormal(mu,covariance)\n",
    "sample = distribution_for_series.sample((number_of_time_series,))\n",
    "rho = np.corrcoef(sample[:, 0], sample[:, 2])[0, 1]"
   ]
  },
  {
   "cell_type": "code",
   "execution_count": 107,
   "id": "d171c90c-4501-4ac0-afee-aa72bcb504fe",
   "metadata": {},
   "outputs": [],
   "source": []
  },
  {
   "cell_type": "code",
   "execution_count": 109,
   "id": "63d0e206-4ea8-4622-9230-7cdabe8a8353",
   "metadata": {},
   "outputs": [
    {
     "data": {
      "text/plain": [
       "0.3471469871790427"
      ]
     },
     "execution_count": 109,
     "metadata": {},
     "output_type": "execute_result"
    }
   ],
   "source": [
    "rho"
   ]
  },
  {
   "cell_type": "code",
   "execution_count": 105,
   "id": "9b1b0363-20df-493d-87fb-99948433b09d",
   "metadata": {},
   "outputs": [
    {
     "data": {
      "text/plain": [
       "tensor([[1.0000, 0.6667, 0.3333, 0.0000],\n",
       "        [0.6667, 1.0000, 0.6667, 0.3333],\n",
       "        [0.3333, 0.6667, 1.0000, 0.6667],\n",
       "        [0.0000, 0.3333, 0.6667, 1.0000]])"
      ]
     },
     "execution_count": 105,
     "metadata": {},
     "output_type": "execute_result"
    }
   ],
   "source": [
    "covariance"
   ]
  },
  {
   "cell_type": "code",
   "execution_count": 81,
   "id": "d7ae25f7-4761-46fb-910c-ac322decb4fb",
   "metadata": {},
   "outputs": [
    {
     "data": {
      "text/plain": [
       "tensor([[True, True, True, True],\n",
       "        [True, True, True, True],\n",
       "        [True, True, True, True],\n",
       "        [True, True, True, True]])"
      ]
     },
     "execution_count": 81,
     "metadata": {},
     "output_type": "execute_result"
    }
   ],
   "source": [
    "covariance.T == covariance"
   ]
  },
  {
   "cell_type": "code",
   "execution_count": 82,
   "id": "0c558e61-1230-4b1d-aac0-57dd17674299",
   "metadata": {},
   "outputs": [
    {
     "data": {
      "text/plain": [
       "MultivariateNormal(loc: torch.Size([4]), covariance_matrix: torch.Size([4, 4]))"
      ]
     },
     "execution_count": 82,
     "metadata": {},
     "output_type": "execute_result"
    }
   ],
   "source": []
  },
  {
   "cell_type": "code",
   "execution_count": 96,
   "id": "e35183d9-1c81-436a-95ec-8f4fcca30f8a",
   "metadata": {},
   "outputs": [
    {
     "name": "stdout",
     "output_type": "stream",
     "text": [
      "The correlation coefficient is 0.50\n"
     ]
    }
   ],
   "source": [
    "import numpy as np\n",
    "\n",
    "# Generate a sample from a bivariate Gaussian distribution\n",
    "mean = [0, 0]\n",
    "cov = [[1, 0.5], [0.5, 1]]\n",
    "sample = np.random.multivariate_normal(mean, cov, size=4000)\n",
    "\n",
    "# Calculate the correlation coefficient\n",
    "rho = np.corrcoef(sample[:, 0], sample[:, 1])[0, 1]\n",
    "\n",
    "print(f\"The correlation coefficient is {rho:.2f}\")\n"
   ]
  },
  {
   "cell_type": "code",
   "execution_count": null,
   "id": "f9efc431-b365-48b0-b685-ebc8c629282a",
   "metadata": {},
   "outputs": [],
   "source": []
  }
 ],
 "metadata": {
  "kernelspec": {
   "display_name": "Python 3 (ipykernel)",
   "language": "python",
   "name": "python3"
  },
  "language_info": {
   "codemirror_mode": {
    "name": "ipython",
    "version": 3
   },
   "file_extension": ".py",
   "mimetype": "text/x-python",
   "name": "python",
   "nbconvert_exporter": "python",
   "pygments_lexer": "ipython3",
   "version": "3.10.9"
  }
 },
 "nbformat": 4,
 "nbformat_minor": 5
}
