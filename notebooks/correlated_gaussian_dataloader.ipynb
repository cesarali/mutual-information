{
 "cells": [
  {
   "cell_type": "code",
   "execution_count": 1,
   "id": "48429502-11d9-4f1c-a035-ae2a22df2cea",
   "metadata": {},
   "outputs": [],
   "source": [
    "import torch\n",
    "import numpy as np\n",
    "from pprint import pprint\n",
    "from dataclasses import dataclass, asdict\n",
    "\n",
    "from mutual_information.data.dataloader_utils import load_dataloader\n",
    "from mutual_information.data.dataloaders import ContrastiveMultivariateGaussianLoaderConfig\n",
    "from mutual_information.configs.dynamic_mi_naive_config import DynamicMutualInformationNaiveConfig"
   ]
  },
  {
   "cell_type": "code",
   "execution_count": 21,
   "id": "46648871-3167-43ab-9505-5991b067d21f",
   "metadata": {},
   "outputs": [],
   "source": [
    "config = DynamicMutualInformationNaiveConfig()\n",
    "config.dataloader.sample_size = 5000\n",
    "config.dataloader.delete_data = True\n",
    "\n",
    "device = torch.device(config.trainer.device)\n",
    "dataloader = load_dataloader(config)\n",
    "databatch = next(dataloader.train().__iter__())\n",
    "\n",
    "data_join = []\n",
    "data_independent = []\n",
    "for databatch in dataloader.train():\n",
    "    data_join.append(databatch[\"join\"])\n",
    "    data_independent.append(databatch[\"independent\"])\n",
    "data_join = torch.vstack(data_join)\n",
    "data_independent = torch.vstack(data_independent)"
   ]
  },
  {
   "cell_type": "code",
   "execution_count": 22,
   "id": "9157305d-1105-4b62-acb0-d06f59692faa",
   "metadata": {},
   "outputs": [
    {
     "data": {
      "text/plain": [
       "0.8865815459981996"
      ]
     },
     "execution_count": 22,
     "metadata": {},
     "output_type": "execute_result"
    }
   ],
   "source": [
    "np.corrcoef(data_join[:, 0], data_join[:, 1])[0, 1]"
   ]
  },
  {
   "cell_type": "code",
   "execution_count": 23,
   "id": "f0a9a83b-ae54-46bc-b392-715395678e90",
   "metadata": {},
   "outputs": [
    {
     "data": {
      "text/plain": [
       "-0.009916401334431758"
      ]
     },
     "execution_count": 23,
     "metadata": {},
     "output_type": "execute_result"
    }
   ],
   "source": [
    "np.corrcoef(data_independent[:, 0], data_independent[:, 1])[0, 1]"
   ]
  },
  {
   "cell_type": "code",
   "execution_count": null,
   "id": "7efcf14b-41f6-464e-a11f-16360df355d0",
   "metadata": {},
   "outputs": [],
   "source": [
    "data_independent"
   ]
  }
 ],
 "metadata": {
  "kernelspec": {
   "display_name": "Python 3 (ipykernel)",
   "language": "python",
   "name": "python3"
  },
  "language_info": {
   "codemirror_mode": {
    "name": "ipython",
    "version": 3
   },
   "file_extension": ".py",
   "mimetype": "text/x-python",
   "name": "python",
   "nbconvert_exporter": "python",
   "pygments_lexer": "ipython3",
   "version": "3.10.9"
  }
 },
 "nbformat": 4,
 "nbformat_minor": 5
}
